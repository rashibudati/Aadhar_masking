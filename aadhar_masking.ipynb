{
  "nbformat": 4,
  "nbformat_minor": 0,
  "metadata": {
    "colab": {
      "name": "aadhar_masking.ipynb",
      "provenance": []
    },
    "kernelspec": {
      "name": "python3",
      "display_name": "Python 3"
    },
    "accelerator": "GPU"
  },
  "cells": [
    {
      "cell_type": "code",
      "metadata": {
        "id": "6mIhcx1wU_x7",
        "outputId": "8e891f70-6869-4239-b247-7cb70d5e6661",
        "colab": {
          "base_uri": "https://localhost:8080/"
        }
      },
      "source": [
        "from google.colab import drive\n",
        "drive.mount(\"/drive\")"
      ],
      "execution_count": 1,
      "outputs": [
        {
          "output_type": "stream",
          "text": [
            "Mounted at /drive\n"
          ],
          "name": "stdout"
        }
      ]
    },
    {
      "cell_type": "code",
      "metadata": {
        "id": "hZnczY7NVJY-",
        "outputId": "6c0aa77f-5dde-44e7-e5bd-e7cc254059f3",
        "colab": {
          "base_uri": "https://localhost:8080/"
        }
      },
      "source": [
        "!sudo apt install tesseract-ocr\n",
        "!pip install pytesseract\n",
        "!pip install ISR\n",
        "!pip install pdf2image\n",
        "!pip install img2pdf\n",
        "!sudo apt-get install poppler-utils\n",
        "!pip install regex"
      ],
      "execution_count": 3,
      "outputs": [
        {
          "output_type": "stream",
          "text": [
            "Reading package lists... Done\n",
            "Building dependency tree       \n",
            "Reading state information... Done\n",
            "The following additional packages will be installed:\n",
            "  tesseract-ocr-eng tesseract-ocr-osd\n",
            "The following NEW packages will be installed:\n",
            "  tesseract-ocr tesseract-ocr-eng tesseract-ocr-osd\n",
            "0 upgraded, 3 newly installed, 0 to remove and 11 not upgraded.\n",
            "Need to get 4,795 kB of archives.\n",
            "After this operation, 15.8 MB of additional disk space will be used.\n",
            "Get:1 http://archive.ubuntu.com/ubuntu bionic/universe amd64 tesseract-ocr-eng all 4.00~git24-0e00fe6-1.2 [1,588 kB]\n",
            "Get:2 http://archive.ubuntu.com/ubuntu bionic/universe amd64 tesseract-ocr-osd all 4.00~git24-0e00fe6-1.2 [2,989 kB]\n",
            "Get:3 http://archive.ubuntu.com/ubuntu bionic/universe amd64 tesseract-ocr amd64 4.00~git2288-10f4998a-2 [218 kB]\n",
            "Fetched 4,795 kB in 3s (1,577 kB/s)\n",
            "debconf: unable to initialize frontend: Dialog\n",
            "debconf: (No usable dialog-like program is installed, so the dialog based frontend cannot be used. at /usr/share/perl5/Debconf/FrontEnd/Dialog.pm line 76, <> line 3.)\n",
            "debconf: falling back to frontend: Readline\n",
            "debconf: unable to initialize frontend: Readline\n",
            "debconf: (This frontend requires a controlling tty.)\n",
            "debconf: falling back to frontend: Teletype\n",
            "dpkg-preconfigure: unable to re-open stdin: \n",
            "Selecting previously unselected package tesseract-ocr-eng.\n",
            "(Reading database ... 144628 files and directories currently installed.)\n",
            "Preparing to unpack .../tesseract-ocr-eng_4.00~git24-0e00fe6-1.2_all.deb ...\n",
            "Unpacking tesseract-ocr-eng (4.00~git24-0e00fe6-1.2) ...\n",
            "Selecting previously unselected package tesseract-ocr-osd.\n",
            "Preparing to unpack .../tesseract-ocr-osd_4.00~git24-0e00fe6-1.2_all.deb ...\n",
            "Unpacking tesseract-ocr-osd (4.00~git24-0e00fe6-1.2) ...\n",
            "Selecting previously unselected package tesseract-ocr.\n",
            "Preparing to unpack .../tesseract-ocr_4.00~git2288-10f4998a-2_amd64.deb ...\n",
            "Unpacking tesseract-ocr (4.00~git2288-10f4998a-2) ...\n",
            "Setting up tesseract-ocr-osd (4.00~git24-0e00fe6-1.2) ...\n",
            "Setting up tesseract-ocr-eng (4.00~git24-0e00fe6-1.2) ...\n",
            "Setting up tesseract-ocr (4.00~git2288-10f4998a-2) ...\n",
            "Processing triggers for man-db (2.8.3-2ubuntu0.1) ...\n",
            "Collecting pytesseract\n",
            "  Downloading https://files.pythonhosted.org/packages/17/4b/4dbd55388225bb6cd243d21f70e77cb3ce061e241257485936324b8e920f/pytesseract-0.3.6.tar.gz\n",
            "Requirement already satisfied: Pillow in /usr/local/lib/python3.6/dist-packages (from pytesseract) (7.0.0)\n",
            "Building wheels for collected packages: pytesseract\n",
            "  Building wheel for pytesseract (setup.py) ... \u001b[?25l\u001b[?25hdone\n",
            "  Created wheel for pytesseract: filename=pytesseract-0.3.6-py2.py3-none-any.whl size=13629 sha256=10931e422ec5b1dbfd1b4b2a1651f180e628e35cc7c43100185fe55634cb9ee8\n",
            "  Stored in directory: /root/.cache/pip/wheels/ee/71/72/b98430261d849ae631e283dfc7ccb456a3fb2ed2205714b63f\n",
            "Successfully built pytesseract\n",
            "Installing collected packages: pytesseract\n",
            "Successfully installed pytesseract-0.3.6\n",
            "Collecting ISR\n",
            "  Downloading https://files.pythonhosted.org/packages/99/da/defbe87bbe70eebfb28c7bbc373d3d0cddbb15f29933eaf04bda48157714/ISR-2.2.0-py3-none-any.whl\n",
            "Requirement already satisfied: numpy in /usr/local/lib/python3.6/dist-packages (from ISR) (1.18.5)\n",
            "Collecting tensorflow==2.0.0\n",
            "\u001b[?25l  Downloading https://files.pythonhosted.org/packages/46/0f/7bd55361168bb32796b360ad15a25de6966c9c1beb58a8e30c01c8279862/tensorflow-2.0.0-cp36-cp36m-manylinux2010_x86_64.whl (86.3MB)\n",
            "\u001b[K     |████████████████████████████████| 86.3MB 53kB/s \n",
            "\u001b[?25hRequirement already satisfied: imageio in /usr/local/lib/python3.6/dist-packages (from ISR) (2.4.1)\n",
            "Requirement already satisfied: tqdm in /usr/local/lib/python3.6/dist-packages (from ISR) (4.41.1)\n",
            "Collecting pyaml\n",
            "  Downloading https://files.pythonhosted.org/packages/15/c4/1310a054d33abc318426a956e7d6df0df76a6ddfa9c66f6310274fb75d42/pyaml-20.4.0-py2.py3-none-any.whl\n",
            "Requirement already satisfied: astor>=0.6.0 in /usr/local/lib/python3.6/dist-packages (from tensorflow==2.0.0->ISR) (0.8.1)\n",
            "Requirement already satisfied: protobuf>=3.6.1 in /usr/local/lib/python3.6/dist-packages (from tensorflow==2.0.0->ISR) (3.12.4)\n",
            "Collecting gast==0.2.2\n",
            "  Downloading https://files.pythonhosted.org/packages/4e/35/11749bf99b2d4e3cceb4d55ca22590b0d7c2c62b9de38ac4a4a7f4687421/gast-0.2.2.tar.gz\n",
            "Requirement already satisfied: absl-py>=0.7.0 in /usr/local/lib/python3.6/dist-packages (from tensorflow==2.0.0->ISR) (0.10.0)\n",
            "Requirement already satisfied: termcolor>=1.1.0 in /usr/local/lib/python3.6/dist-packages (from tensorflow==2.0.0->ISR) (1.1.0)\n",
            "Collecting keras-applications>=1.0.8\n",
            "\u001b[?25l  Downloading https://files.pythonhosted.org/packages/71/e3/19762fdfc62877ae9102edf6342d71b28fbfd9dea3d2f96a882ce099b03f/Keras_Applications-1.0.8-py3-none-any.whl (50kB)\n",
            "\u001b[K     |████████████████████████████████| 51kB 7.7MB/s \n",
            "\u001b[?25hCollecting tensorflow-estimator<2.1.0,>=2.0.0\n",
            "\u001b[?25l  Downloading https://files.pythonhosted.org/packages/fc/08/8b927337b7019c374719145d1dceba21a8bb909b93b1ad6f8fb7d22c1ca1/tensorflow_estimator-2.0.1-py2.py3-none-any.whl (449kB)\n",
            "\u001b[K     |████████████████████████████████| 450kB 30.3MB/s \n",
            "\u001b[?25hRequirement already satisfied: wheel>=0.26 in /usr/local/lib/python3.6/dist-packages (from tensorflow==2.0.0->ISR) (0.35.1)\n",
            "Requirement already satisfied: google-pasta>=0.1.6 in /usr/local/lib/python3.6/dist-packages (from tensorflow==2.0.0->ISR) (0.2.0)\n",
            "Requirement already satisfied: wrapt>=1.11.1 in /usr/local/lib/python3.6/dist-packages (from tensorflow==2.0.0->ISR) (1.12.1)\n",
            "Requirement already satisfied: grpcio>=1.8.6 in /usr/local/lib/python3.6/dist-packages (from tensorflow==2.0.0->ISR) (1.33.2)\n",
            "Collecting tensorboard<2.1.0,>=2.0.0\n",
            "\u001b[?25l  Downloading https://files.pythonhosted.org/packages/76/54/99b9d5d52d5cb732f099baaaf7740403e83fe6b0cedde940fabd2b13d75a/tensorboard-2.0.2-py3-none-any.whl (3.8MB)\n",
            "\u001b[K     |████████████████████████████████| 3.8MB 55.7MB/s \n",
            "\u001b[?25hRequirement already satisfied: opt-einsum>=2.3.2 in /usr/local/lib/python3.6/dist-packages (from tensorflow==2.0.0->ISR) (3.3.0)\n",
            "Requirement already satisfied: keras-preprocessing>=1.0.5 in /usr/local/lib/python3.6/dist-packages (from tensorflow==2.0.0->ISR) (1.1.2)\n",
            "Requirement already satisfied: six>=1.10.0 in /usr/local/lib/python3.6/dist-packages (from tensorflow==2.0.0->ISR) (1.15.0)\n",
            "Requirement already satisfied: pillow in /usr/local/lib/python3.6/dist-packages (from imageio->ISR) (7.0.0)\n",
            "Requirement already satisfied: PyYAML in /usr/local/lib/python3.6/dist-packages (from pyaml->ISR) (3.13)\n",
            "Requirement already satisfied: setuptools in /usr/local/lib/python3.6/dist-packages (from protobuf>=3.6.1->tensorflow==2.0.0->ISR) (50.3.2)\n",
            "Requirement already satisfied: h5py in /usr/local/lib/python3.6/dist-packages (from keras-applications>=1.0.8->tensorflow==2.0.0->ISR) (2.10.0)\n",
            "Requirement already satisfied: werkzeug>=0.11.15 in /usr/local/lib/python3.6/dist-packages (from tensorboard<2.1.0,>=2.0.0->tensorflow==2.0.0->ISR) (1.0.1)\n",
            "Requirement already satisfied: markdown>=2.6.8 in /usr/local/lib/python3.6/dist-packages (from tensorboard<2.1.0,>=2.0.0->tensorflow==2.0.0->ISR) (3.3.3)\n",
            "Requirement already satisfied: requests<3,>=2.21.0 in /usr/local/lib/python3.6/dist-packages (from tensorboard<2.1.0,>=2.0.0->tensorflow==2.0.0->ISR) (2.23.0)\n",
            "Requirement already satisfied: google-auth<2,>=1.6.3 in /usr/local/lib/python3.6/dist-packages (from tensorboard<2.1.0,>=2.0.0->tensorflow==2.0.0->ISR) (1.17.2)\n",
            "Requirement already satisfied: google-auth-oauthlib<0.5,>=0.4.1 in /usr/local/lib/python3.6/dist-packages (from tensorboard<2.1.0,>=2.0.0->tensorflow==2.0.0->ISR) (0.4.2)\n",
            "Requirement already satisfied: importlib-metadata; python_version < \"3.8\" in /usr/local/lib/python3.6/dist-packages (from markdown>=2.6.8->tensorboard<2.1.0,>=2.0.0->tensorflow==2.0.0->ISR) (2.0.0)\n",
            "Requirement already satisfied: chardet<4,>=3.0.2 in /usr/local/lib/python3.6/dist-packages (from requests<3,>=2.21.0->tensorboard<2.1.0,>=2.0.0->tensorflow==2.0.0->ISR) (3.0.4)\n",
            "Requirement already satisfied: certifi>=2017.4.17 in /usr/local/lib/python3.6/dist-packages (from requests<3,>=2.21.0->tensorboard<2.1.0,>=2.0.0->tensorflow==2.0.0->ISR) (2020.6.20)\n",
            "Requirement already satisfied: idna<3,>=2.5 in /usr/local/lib/python3.6/dist-packages (from requests<3,>=2.21.0->tensorboard<2.1.0,>=2.0.0->tensorflow==2.0.0->ISR) (2.10)\n",
            "Requirement already satisfied: urllib3!=1.25.0,!=1.25.1,<1.26,>=1.21.1 in /usr/local/lib/python3.6/dist-packages (from requests<3,>=2.21.0->tensorboard<2.1.0,>=2.0.0->tensorflow==2.0.0->ISR) (1.24.3)\n",
            "Requirement already satisfied: rsa<5,>=3.1.4; python_version >= \"3\" in /usr/local/lib/python3.6/dist-packages (from google-auth<2,>=1.6.3->tensorboard<2.1.0,>=2.0.0->tensorflow==2.0.0->ISR) (4.6)\n",
            "Requirement already satisfied: cachetools<5.0,>=2.0.0 in /usr/local/lib/python3.6/dist-packages (from google-auth<2,>=1.6.3->tensorboard<2.1.0,>=2.0.0->tensorflow==2.0.0->ISR) (4.1.1)\n",
            "Requirement already satisfied: pyasn1-modules>=0.2.1 in /usr/local/lib/python3.6/dist-packages (from google-auth<2,>=1.6.3->tensorboard<2.1.0,>=2.0.0->tensorflow==2.0.0->ISR) (0.2.8)\n",
            "Requirement already satisfied: requests-oauthlib>=0.7.0 in /usr/local/lib/python3.6/dist-packages (from google-auth-oauthlib<0.5,>=0.4.1->tensorboard<2.1.0,>=2.0.0->tensorflow==2.0.0->ISR) (1.3.0)\n",
            "Requirement already satisfied: zipp>=0.5 in /usr/local/lib/python3.6/dist-packages (from importlib-metadata; python_version < \"3.8\"->markdown>=2.6.8->tensorboard<2.1.0,>=2.0.0->tensorflow==2.0.0->ISR) (3.4.0)\n",
            "Requirement already satisfied: pyasn1>=0.1.3 in /usr/local/lib/python3.6/dist-packages (from rsa<5,>=3.1.4; python_version >= \"3\"->google-auth<2,>=1.6.3->tensorboard<2.1.0,>=2.0.0->tensorflow==2.0.0->ISR) (0.4.8)\n",
            "Requirement already satisfied: oauthlib>=3.0.0 in /usr/local/lib/python3.6/dist-packages (from requests-oauthlib>=0.7.0->google-auth-oauthlib<0.5,>=0.4.1->tensorboard<2.1.0,>=2.0.0->tensorflow==2.0.0->ISR) (3.1.0)\n",
            "Building wheels for collected packages: gast\n",
            "  Building wheel for gast (setup.py) ... \u001b[?25l\u001b[?25hdone\n",
            "  Created wheel for gast: filename=gast-0.2.2-cp36-none-any.whl size=7542 sha256=92a650c8c16bea9cc38b3d4d8731c252995df1e072380d5640bd48969321d80e\n",
            "  Stored in directory: /root/.cache/pip/wheels/5c/2e/7e/a1d4d4fcebe6c381f378ce7743a3ced3699feb89bcfbdadadd\n",
            "Successfully built gast\n",
            "\u001b[31mERROR: tensorflow-probability 0.11.0 has requirement gast>=0.3.2, but you'll have gast 0.2.2 which is incompatible.\u001b[0m\n",
            "Installing collected packages: gast, keras-applications, tensorflow-estimator, tensorboard, tensorflow, pyaml, ISR\n",
            "  Found existing installation: gast 0.3.3\n",
            "    Uninstalling gast-0.3.3:\n",
            "      Successfully uninstalled gast-0.3.3\n",
            "  Found existing installation: tensorflow-estimator 2.3.0\n",
            "    Uninstalling tensorflow-estimator-2.3.0:\n",
            "      Successfully uninstalled tensorflow-estimator-2.3.0\n",
            "  Found existing installation: tensorboard 2.3.0\n",
            "    Uninstalling tensorboard-2.3.0:\n",
            "      Successfully uninstalled tensorboard-2.3.0\n",
            "  Found existing installation: tensorflow 2.3.0\n",
            "    Uninstalling tensorflow-2.3.0:\n",
            "      Successfully uninstalled tensorflow-2.3.0\n",
            "Successfully installed ISR-2.2.0 gast-0.2.2 keras-applications-1.0.8 pyaml-20.4.0 tensorboard-2.0.2 tensorflow-2.0.0 tensorflow-estimator-2.0.1\n",
            "Collecting pdf2image\n",
            "  Downloading https://files.pythonhosted.org/packages/03/62/089030fd16ab3e5c245315d63c80b29250b8f9e4579b5a09306eb7e7539c/pdf2image-1.14.0-py3-none-any.whl\n",
            "Requirement already satisfied: pillow in /usr/local/lib/python3.6/dist-packages (from pdf2image) (7.0.0)\n",
            "Installing collected packages: pdf2image\n",
            "Successfully installed pdf2image-1.14.0\n",
            "Collecting img2pdf\n",
            "\u001b[?25l  Downloading https://files.pythonhosted.org/packages/80/ed/5167992abaf268f5a5867e974d9d36a8fa4802800898ec711f4e1942b4f5/img2pdf-0.4.0.tar.gz (107kB)\n",
            "\u001b[K     |████████████████████████████████| 112kB 2.8MB/s \n",
            "\u001b[?25hRequirement already satisfied: Pillow in /usr/local/lib/python3.6/dist-packages (from img2pdf) (7.0.0)\n",
            "Collecting pikepdf\n",
            "\u001b[?25l  Downloading https://files.pythonhosted.org/packages/92/81/bcd4fc05e420202312c629f4fc37bc0611426a3b6bbfdecf511c6307809c/pikepdf-2.0.0-cp36-cp36m-manylinux2010_x86_64.whl (1.8MB)\n",
            "\u001b[K     |████████████████████████████████| 1.8MB 8.8MB/s \n",
            "\u001b[?25hRequirement already satisfied: lxml>=4.0 in /usr/local/lib/python3.6/dist-packages (from pikepdf->img2pdf) (4.2.6)\n",
            "Building wheels for collected packages: img2pdf\n",
            "  Building wheel for img2pdf (setup.py) ... \u001b[?25l\u001b[?25hdone\n",
            "  Created wheel for img2pdf: filename=img2pdf-0.4.0-cp36-none-any.whl size=40502 sha256=02d53d502a9094086c37e752dd1eb9a616c1f9b6d9154fc0cfdd9e64ee83a73c\n",
            "  Stored in directory: /root/.cache/pip/wheels/90/f5/7f/b88a76bac33669118e7549f4856bbe975a3ad2e59280c59196\n",
            "Successfully built img2pdf\n",
            "Installing collected packages: pikepdf, img2pdf\n",
            "Successfully installed img2pdf-0.4.0 pikepdf-2.0.0\n",
            "Reading package lists... Done\n",
            "Building dependency tree       \n",
            "Reading state information... Done\n",
            "The following NEW packages will be installed:\n",
            "  poppler-utils\n",
            "0 upgraded, 1 newly installed, 0 to remove and 11 not upgraded.\n",
            "Need to get 154 kB of archives.\n",
            "After this operation, 613 kB of additional disk space will be used.\n",
            "Get:1 http://archive.ubuntu.com/ubuntu bionic-updates/main amd64 poppler-utils amd64 0.62.0-2ubuntu2.10 [154 kB]\n",
            "Fetched 154 kB in 2s (100 kB/s)\n",
            "debconf: unable to initialize frontend: Dialog\n",
            "debconf: (No usable dialog-like program is installed, so the dialog based frontend cannot be used. at /usr/share/perl5/Debconf/FrontEnd/Dialog.pm line 76, <> line 1.)\n",
            "debconf: falling back to frontend: Readline\n",
            "debconf: unable to initialize frontend: Readline\n",
            "debconf: (This frontend requires a controlling tty.)\n",
            "debconf: falling back to frontend: Teletype\n",
            "dpkg-preconfigure: unable to re-open stdin: \n",
            "Selecting previously unselected package poppler-utils.\n",
            "(Reading database ... 144675 files and directories currently installed.)\n",
            "Preparing to unpack .../poppler-utils_0.62.0-2ubuntu2.10_amd64.deb ...\n",
            "Unpacking poppler-utils (0.62.0-2ubuntu2.10) ...\n",
            "Setting up poppler-utils (0.62.0-2ubuntu2.10) ...\n",
            "Processing triggers for man-db (2.8.3-2ubuntu0.1) ...\n",
            "Requirement already satisfied: regex in /usr/local/lib/python3.6/dist-packages (2019.12.20)\n"
          ],
          "name": "stdout"
        }
      ]
    },
    {
      "cell_type": "code",
      "metadata": {
        "id": "WbbB_MLrDSzz"
      },
      "source": [
        "import pytesseract"
      ],
      "execution_count": 4,
      "outputs": []
    },
    {
      "cell_type": "code",
      "metadata": {
        "id": "t2cc3YVWVYCU"
      },
      "source": [
        "import cv2\n",
        "import numpy as np\n",
        "import matplotlib.pyplot as plt\n",
        "import regex as re\n",
        "from PIL import Image\n",
        "import pytesseract as ocr\n",
        "from ISR.models import RRDN\n",
        "from google.colab.patches import cv2_imshow\n",
        "from pdf2image import convert_from_path\n",
        "import img2pdf"
      ],
      "execution_count": 5,
      "outputs": []
    },
    {
      "cell_type": "code",
      "metadata": {
        "id": "vJ2RrSCRVuei",
        "outputId": "b7089a17-e571-4d26-957f-bcf5243ac18b",
        "colab": {
          "base_uri": "https://localhost:8080/"
        }
      },
      "source": [
        "SR_Model = RRDN(weights='gans')"
      ],
      "execution_count": 6,
      "outputs": [
        {
          "output_type": "stream",
          "text": [
            "Downloading data from https://public-asai-dl-models.s3.eu-central-1.amazonaws.com/ISR/rrdn-C4-D3-G32-G032-T10-x4-GANS/rrdn-C4-D3-G32-G032-T10-x4_epoch299.hdf5\n",
            "17465344/17462488 [==============================] - 3s 0us/step\n"
          ],
          "name": "stdout"
        }
      ]
    },
    {
      "cell_type": "code",
      "metadata": {
        "id": "W7YtjJZ_VyA_"
      },
      "source": [
        "multiplication_table = (\n",
        "    (0, 1, 2, 3, 4, 5, 6, 7, 8, 9),\n",
        "    (1, 2, 3, 4, 0, 6, 7, 8, 9, 5),\n",
        "    (2, 3, 4, 0, 1, 7, 8, 9, 5, 6),\n",
        "    (3, 4, 0, 1, 2, 8, 9, 5, 6, 7),\n",
        "    (4, 0, 1, 2, 3, 9, 5, 6, 7, 8),\n",
        "    (5, 9, 8, 7, 6, 0, 4, 3, 2, 1),\n",
        "    (6, 5, 9, 8, 7, 1, 0, 4, 3, 2),\n",
        "    (7, 6, 5, 9, 8, 2, 1, 0, 4, 3),\n",
        "    (8, 7, 6, 5, 9, 3, 2, 1, 0, 4),\n",
        "    (9, 8, 7, 6, 5, 4, 3, 2, 1, 0))\n",
        "\n",
        "permutation_table = (\n",
        "    (0, 1, 2, 3, 4, 5, 6, 7, 8, 9),\n",
        "    (1, 5, 7, 6, 2, 8, 3, 0, 9, 4),\n",
        "    (5, 8, 0, 3, 7, 9, 6, 1, 4, 2),\n",
        "    (8, 9, 1, 6, 0, 4, 3, 5, 2, 7),\n",
        "    (9, 4, 5, 3, 1, 2, 6, 8, 7, 0),\n",
        "    (4, 2, 8, 6, 5, 7, 3, 9, 0, 1),\n",
        "    (2, 7, 9, 3, 8, 0, 6, 4, 1, 5),\n",
        "    (7, 0, 4, 6, 9, 1, 3, 2, 5, 8))\n",
        "\n",
        "def compute_checksum(number):\n",
        "    \n",
        "    \"\"\"Calculate the Verhoeff checksum over the provided number. The checksum\n",
        "    is returned as an int. Valid numbers should have a checksum of 0.\"\"\"\n",
        "    \n",
        "    # transform number list\n",
        "    number = tuple(int(n) for n in reversed(str(number)))\n",
        "    \n",
        "    # calculate checksum\n",
        "    checksum = 0\n",
        "    \n",
        "    for i, n in enumerate(number):\n",
        "        checksum = multiplication_table[checksum][permutation_table[i % 8][n]]\n",
        "    \n",
        "    return checksum"
      ],
      "execution_count": 7,
      "outputs": []
    },
    {
      "cell_type": "code",
      "metadata": {
        "id": "E6yXvYOpV5dk"
      },
      "source": [
        "# Search Possible UIDs with Bounding Boxes\n",
        "\n",
        "def Regex_Search(bounding_boxes):\n",
        "\n",
        "  possible_UIDs = []\n",
        "  Result = \"\"\n",
        "\n",
        "  for character in range(len(bounding_boxes)):\n",
        "    if len(bounding_boxes[character])!=0:\n",
        "      Result += bounding_boxes[character][0]\n",
        "    else:\n",
        "      Result += '?'\n",
        "\n",
        "  matches = [match.span() for match in re.finditer(r'\\d{12}',Result,overlapped=True)]\n",
        "\n",
        "  for match in matches :\n",
        "\n",
        "    UID = int(Result[match[0]:match[1]])\n",
        "    \n",
        "    if compute_checksum(UID)==0 and UID%10000!=1947:\n",
        "       possible_UIDs.append([UID,match[0]])\n",
        "\n",
        "  possible_UIDs = np.array(possible_UIDs)\n",
        "  return possible_UIDs"
      ],
      "execution_count": 8,
      "outputs": []
    },
    {
      "cell_type": "code",
      "metadata": {
        "id": "XoohRna8WATh"
      },
      "source": [
        "def Mask_UIDs (image_path,possible_UIDs,bounding_boxes,rtype,SR=False,SR_Ratio=[1,1]):\n",
        "\n",
        "  img = cv2.imread(image_path)\n",
        "\n",
        "  if rtype==2:\n",
        "    img = cv2.rotate(img,cv2.ROTATE_90_COUNTERCLOCKWISE)\n",
        "  elif rtype==3:\n",
        "    img = cv2.rotate(img,cv2.ROTATE_180)\n",
        "  elif rtype==4:\n",
        "    img = cv2.rotate(img,cv2.ROTATE_90_CLOCKWISE)\n",
        "\n",
        "  height = img.shape[0]\n",
        "\n",
        "  if SR==True:\n",
        "    height*=SR_Ratio[1]\n",
        "\n",
        "  ########################### MASK EVERY DIGIT INDIVIDUALLY ############################\n",
        "\n",
        "  # for UID in possible_UIDs:\n",
        "\n",
        "  #   for i in range(8):\n",
        "\n",
        "  #     digit = bounding_boxes[UID[1]+i].split()\n",
        "\n",
        "  #     if SR==False:\n",
        "  #       top_left_corner = (int(digit[1]),height-int(digit[4]))\n",
        "  #       bottom_right_corner = (int(digit[3]),height-int(digit[2]))\n",
        "\n",
        "  #     else:\n",
        "  #       top_left_corner = (int(int(digit[1])/SR_Ratio[0]),int((height-int(digit[4]))/SR_Ratio[1]))\n",
        "  #       bottom_right_corner = (int(int(digit[3])/SR_Ratio[0]),int((height-int(digit[2]))/SR_Ratio[1]))\n",
        "\n",
        "  #     img = cv2.rectangle(img,top_left_corner,bottom_right_corner,(0,0,0),-1)\n",
        "\n",
        "  for UID in possible_UIDs:\n",
        "\n",
        "    digit1 = bounding_boxes[UID[1]].split()\n",
        "    digit8 = bounding_boxes[UID[1] + 7].split()\n",
        "\n",
        "    h1 = min(height-int(digit1[4]),height-int(digit8[4]))\n",
        "    h2 = max(height-int(digit1[2]),height-int(digit8[2]))\n",
        "\n",
        "    if SR==False:\n",
        "      top_left_corner = (int(digit1[1]),h1)\n",
        "      bottom_right_corner = (int(digit8[3]),h2)\n",
        "\n",
        "    else:\n",
        "      top_left_corner = (int(int(digit1[1])/SR_Ratio[0]),int((h1)/SR_Ratio[1]))\n",
        "      bottom_right_corner = (int(int(digit8[3])/SR_Ratio[0]),int((h2)/SR_Ratio[1]))\n",
        "\n",
        "    img = cv2.rectangle(img,top_left_corner,bottom_right_corner,(0,0,0),-1)\n",
        "\n",
        "  if rtype==2:\n",
        "    img = cv2.rotate(img,cv2.ROTATE_90_CLOCKWISE)\n",
        "  elif rtype==3:\n",
        "    img = cv2.rotate(img,cv2.ROTATE_180)\n",
        "  elif rtype==4:\n",
        "    img = cv2.rotate(img,cv2.ROTATE_90_COUNTERCLOCKWISE)\n",
        "\n",
        "  file_name = image_path.split('/')[-1].split('.')[0]+\"_masked\"+\".\"+image_path.split('.')[-1]\n",
        "  cv2.imwrite(file_name,img)\n",
        "  return file_name"
      ],
      "execution_count": 9,
      "outputs": []
    },
    {
      "cell_type": "code",
      "metadata": {
        "id": "ox7iwEnKWUsk"
      },
      "source": [
        "def Extract_and_Mask_UIDs (image_path,SR=False,sr_image_path=None,SR_Ratio=[1,1]):\n",
        "\n",
        "  if SR==False:\n",
        "    img = cv2.imread(image_path)\n",
        "  else:\n",
        "    img = cv2.imread(sr_image_path)\n",
        "\n",
        "  gray = cv2.cvtColor(img,cv2.COLOR_BGR2GRAY)\n",
        "\n",
        "  rotations = [[gray,1],\n",
        "               [cv2.rotate(gray,cv2.ROTATE_90_COUNTERCLOCKWISE),2],\n",
        "               [cv2.rotate(gray,cv2.ROTATE_180),3],\n",
        "               [cv2.rotate(gray,cv2.ROTATE_90_CLOCKWISE),4],\n",
        "               [cv2.GaussianBlur(gray,(5,5),0),1],\n",
        "               [cv2.GaussianBlur(cv2.rotate(gray,cv2.ROTATE_90_COUNTERCLOCKWISE),(5,5),0),2],\n",
        "               [cv2.GaussianBlur(cv2.rotate(gray,cv2.ROTATE_180),(5,5),0),3],\n",
        "               [cv2.GaussianBlur(cv2.rotate(gray,cv2.ROTATE_90_CLOCKWISE),(5,5),0),4]]\n",
        "\n",
        "  settings = ('-l eng --oem 3 --psm 11')\n",
        "\n",
        "  for rotation in rotations :\n",
        "    \n",
        "    cv2.imwrite('rotated_grayscale.png',rotation[0])\n",
        "    bounding_boxes = ocr.image_to_boxes(Image.open('rotated_grayscale.png'),config=settings).split(\" 0\\n\")\n",
        "\n",
        "    possible_UIDs = Regex_Search(bounding_boxes)\n",
        "\n",
        "    if len(possible_UIDs)==0:\n",
        "      continue\n",
        "    else:\n",
        "\n",
        "      if SR==False:\n",
        "        masked_img = Mask_UIDs (image_path,possible_UIDs,bounding_boxes,rotation[1])\n",
        "      else:\n",
        "        masked_img = Mask_UIDs (image_path,possible_UIDs,bounding_boxes,rotation[1],True,SR_Ratio)\n",
        "\n",
        "      return (masked_img,possible_UIDs)\n",
        "\n",
        "  return (None,None)"
      ],
      "execution_count": 10,
      "outputs": []
    },
    {
      "cell_type": "code",
      "metadata": {
        "id": "6iVzBGd1XUc4"
      },
      "source": [
        "# !pip install img2pdf"
      ],
      "execution_count": 11,
      "outputs": []
    },
    {
      "cell_type": "code",
      "metadata": {
        "id": "Iad9hJxFWxO3"
      },
      "source": [
        "# import img2pdf \n",
        "# with open(\"name.pdf\",\"wb\") as f:\n",
        "# \tf.write(img2pdf.convert('/content/aadhar.jpg'))"
      ],
      "execution_count": null,
      "outputs": []
    },
    {
      "cell_type": "code",
      "metadata": {
        "id": "1iq-ZtjrWb1n",
        "outputId": "533ded76-5623-4a2b-f807-73c7d35ad2e2",
        "colab": {
          "base_uri": "https://localhost:8080/"
        }
      },
      "source": [
        "input_path = \"/content/aadhar2.jpg\"   # Path to the Input Image\n",
        "\n",
        "# if input_path.split('.')[-1]==\"pdf\":\n",
        "    \n",
        "#     pages = convert_from_path(input_path, 300)\n",
        "#     pages[0].save('pdf2img.jpg', 'JPEG')\n",
        "\n",
        "# if input_path.split('.')[-1]==\"pdf\":\n",
        "#   masked_img,possible_UIDs = Extract_and_Mask_UIDs('pdf2img.jpg')\n",
        "# else:\n",
        "masked_img,possible_UIDs = Extract_and_Mask_UIDs(input_path)\n",
        "\n",
        "if masked_img!=None and input_path.split('.')[-1]==\"pdf\":\n",
        "    \n",
        "  image = Image.open(masked_img) \n",
        "  pdf_bytes = img2pdf.convert(image.filename) \n",
        "  file = open(input_path.split('/')[-1].split('.')[0]+\"_masked\"+\".pdf\", \"wb\")\n",
        "  masked_img = input_path.split('/')[-1].split('.')[0]+\"_masked\"+\".pdf\" \n",
        "  file.write(pdf_bytes) \n",
        "  image.close() \n",
        "  file.close() \n",
        "\n",
        "if masked_img==None:\n",
        "  print(\"Can't find any UID!\")\n",
        "else:\n",
        "  print(\"Found UIDs : \"+str(possible_UIDs[:,0]))"
      ],
      "execution_count": 13,
      "outputs": [
        {
          "output_type": "stream",
          "text": [
            "Found UIDs : [472894739406]\n"
          ],
          "name": "stdout"
        }
      ]
    },
    {
      "cell_type": "code",
      "metadata": {
        "id": "SwNDvZLNX_Ys"
      },
      "source": [
        ""
      ],
      "execution_count": null,
      "outputs": []
    }
  ]
}